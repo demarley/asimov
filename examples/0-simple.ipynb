{
 "cells": [
  {
   "cell_type": "markdown",
   "metadata": {},
   "source": [
    "# Asimov: Simple Example"
   ]
  },
  {
   "cell_type": "markdown",
   "metadata": {},
   "source": [
    "This notebook details a simple setup for using the Asimov framework in your own analysis.\n",
    "A dataset from the Higgs Boson Machine Learning Challenge is used for the demo*.\n",
    "\n",
    "\n",
    "*Data accessed from Higgs Boson Machine Learning Challenge\n",
    "http://opendata.cern.ch/record/328\n",
    "on 18 September 2018 (converted from .csv to .root for this example)"
   ]
  },
  {
   "cell_type": "code",
   "execution_count": 1,
   "metadata": {
    "collapsed": true
   },
   "outputs": [],
   "source": [
    "import os\n",
    "import sys\n",
    "from time import strftime,localtime"
   ]
  },
  {
   "cell_type": "markdown",
   "metadata": {},
   "source": [
    "### Import Necessary Modules\n",
    "Update python paths to include the directories for Asimov and hepPlotter -- subject to how you have checked out these repositories"
   ]
  },
  {
   "cell_type": "code",
   "execution_count": 2,
   "metadata": {
    "collapsed": true
   },
   "outputs": [],
   "source": [
    "cwd = os.getcwd()\n",
    "hpd = cwd.rstrip(\"examples\")+\"python/\"\n",
    "if hpd not in sys.path:\n",
    "    sys.path.insert(0,hpd)\n",
    "hpd2 = cwd.replace(\"asimov/examples\",\"hepPlotter/python/\")\n",
    "if hpd2 not in sys.path:\n",
    "    sys.path.insert(0,hpd2)"
   ]
  },
  {
   "cell_type": "code",
   "execution_count": 3,
   "metadata": {},
   "outputs": [
    {
     "name": "stdout",
     "output_type": "stream",
     "text": [
      "/Users/demarley/Desktop/CERN/CMS/common/asimov/examples /Users/demarley/Desktop/CERN/CMS/common/hepPlotter/python//examples\n",
      "Welcome to JupyROOT 6.10/02\n"
     ]
    },
    {
     "name": "stderr",
     "output_type": "stream",
     "text": [
      "/Users/demarley/anaconda2/lib/python2.7/site-packages/matplotlib/style/core.py:51: UserWarning: Style includes a parameter, 'backend', that is not related to style.  Ignoring\n",
      "  \"to style.  Ignoring\".format(key))\n",
      "/Users/demarley/root_build/lib/ROOT.py:318: FutureWarning: Conversion of the second argument of issubdtype from `float` to `np.floating` is deprecated. In future, it will be treated as `np.float64 == np.dtype(float).type`.\n",
      "  return _orig_ihook( name, *args, **kwds )\n",
      "Using TensorFlow backend.\n"
     ]
    }
   ],
   "source": [
    "import util\n",
    "from training import Training\n",
    "from config import Config\n",
    "import example_plotlabels as plb"
   ]
  },
  {
   "cell_type": "markdown",
   "metadata": {},
   "source": [
    "The python file `example_plotlabels.py` contains an example for how you can organize information concerning sample and variable labels on your plots.  \n",
    "The objects in this file (`Sample` & `Variable`) are assumed to be available in the Asimov framework."
   ]
  },
  {
   "cell_type": "markdown",
   "metadata": {},
   "source": [
    "### Setup Configuration"
   ]
  },
  {
   "cell_type": "code",
   "execution_count": 4,
   "metadata": {},
   "outputs": [
    {
     "name": "stdout",
     "output_type": "stream",
     "text": [
      "WARNING :: CONFIG : The configuration file does not contain model_name\n",
      "WARNING :: CONFIG : Using default value.\n",
      "WARNING :: CONFIG : The configuration file does not contain dnn_data\n",
      "WARNING :: CONFIG : Using default value.\n",
      " INFO :: RUN :  Saving output to ./example/training-19Sep2018-1253/\n"
     ]
    }
   ],
   "source": [
    "config   = Config(\"example_config.txt\")  # Set options for asimov\n",
    "vb       = util.VERBOSE()                # Tool that handles print statements to the console\n",
    "vb.level = config.verbose_level\n",
    "vb.initialize()\n",
    "\n",
    "# Create a new (unique) directory to store the outputs\n",
    "# I use the current date/time, but this is just a personal preference\n",
    "date = strftime(\"%d%b%Y-%H%M\")\n",
    "hep_data_name = config.hep_data.split('/')[-1].split('.')[0]\n",
    "output = \"{0}/{1}\".format( config.output_path,hep_data_name)\n",
    "output += \"/training-{0}/\".format(date)\n",
    "\n",
    "vb.INFO(\"RUN :  Saving output to {0}\".format(output))\n",
    "if not os.path.isdir(output):\n",
    "    os.system( 'mkdir -p {0}'.format(output) )"
   ]
  },
  {
   "cell_type": "markdown",
   "metadata": {},
   "source": [
    "### Initialize & Setup Deep Learning class"
   ]
  },
  {
   "cell_type": "code",
   "execution_count": 5,
   "metadata": {
    "collapsed": true
   },
   "outputs": [],
   "source": [
    "dnn = Training() # class to do the training"
   ]
  },
  {
   "cell_type": "code",
   "execution_count": 6,
   "metadata": {
    "collapsed": true
   },
   "outputs": [],
   "source": [
    "dnn.variable_labels = plb.variable_labels()  # labels for variables\n",
    "dnn.sample_labels   = plb.sample_labels()    # labels for samples\n",
    "\n",
    "dnn.hep_data   = config.hep_data\n",
    "dnn.model_name = config.dnn_data\n",
    "dnn.msg_svc    = vb\n",
    "dnn.treename   = config.treename\n",
    "dnn.useLWTNN   = True\n",
    "dnn.dnn_name   = \"dnn\"\n",
    "dnn.output_dim = config.output_dim\n",
    "dnn.loss       = config.loss\n",
    "dnn.init       = config.init\n",
    "dnn.nNodes     = config.nNodes\n",
    "dnn.metrics    = config.metrics\n",
    "dnn.features   = config.features\n",
    "dnn.epochs     = config.epochs\n",
    "dnn.optimizer  = config.optimizer\n",
    "dnn.input_dim  = len(config.features)\n",
    "dnn.batch_size = config.batch_size\n",
    "dnn.activations    = config.activation.split(',')\n",
    "dnn.nHiddenLayers  = config.nHiddenLayers\n",
    "dnn.earlystopping  = {'monitor':'loss','min_delta':0.0001,'patience':10,'mode':'auto'}\n",
    "dnn.runDiagnostics = True\n",
    "dnn.classes = {\"bckg\":0,\"signal\":1}\n",
    "dnn.output_dir = output"
   ]
  },
  {
   "cell_type": "markdown",
   "metadata": {},
   "source": [
    "NB: in the function call `dnn.train(ndims=X)`, `ndims` represents the number of dimensions to consider for plotting features for signal/background.  \n",
    "- `ndims = -1`:    Plot 1D & 2D features for signal and background (can be slow)\n",
    "- `ndims = 1`:     Plot 1D features only\n",
    "\n",
    "### Run the training!"
   ]
  },
  {
   "cell_type": "code",
   "execution_count": 7,
   "metadata": {},
   "outputs": [
    {
     "name": "stdout",
     "output_type": "stream",
     "text": [
      " WARNING :: TRAINING : Number of output dimensions = 1.\n",
      " WARNING ::          : Setting this value to 2 instead.\n",
      " INFO :: FOUNDATION : Load HEP data\n",
      " INFO :: FOUNDATION : -- pre-training :: features\n"
     ]
    },
    {
     "name": "stderr",
     "output_type": "stream",
     "text": [
      "/Users/demarley/anaconda2/lib/python2.7/site-packages/matplotlib/font_manager.py:1328: UserWarning: findfont: Font family [u'sans-serif'] not found. Falling back to DejaVu Sans\n",
      "  (prop.get_family(), self.defaultFamily[fontext]))\n",
      "/Users/demarley/Desktop/CERN/CMS/common/hepPlotter/python/histogram1D.py:236: RuntimeWarning: divide by zero encountered in divide\n",
      "  ratio_data.data.content = (num_data / np.sqrt(den_data)).copy()\n",
      "/Users/demarley/Desktop/CERN/CMS/common/hepPlotter/python/histogram1D.py:236: RuntimeWarning: invalid value encountered in divide\n",
      "  ratio_data.data.content = (num_data / np.sqrt(den_data)).copy()\n",
      "/Users/demarley/Desktop/CERN/CMS/common/asimov/python/util.py:112: RuntimeWarning: invalid value encountered in divide\n",
      "  tmp = np.divide( (sig-bkg)**2 , (sig+bkg), dtype=np.float32)\n"
     ]
    },
    {
     "name": "stdout",
     "output_type": "stream",
     "text": [
      " INFO :: FOUNDATION : -- pre-training :: correlations\n",
      " INFO :: FOUNDATION : -- pre-training :: separations\n",
      "Train on 293538 samples, validate on 97846 samples\n",
      "Epoch 1/10\n",
      "293538/293538 [==============================] - 8s - loss: 0.5012 - acc: 0.7552 - val_loss: 0.4988 - val_acc: 0.7603\n",
      "Epoch 2/10\n",
      "293538/293538 [==============================] - 8s - loss: 0.4646 - acc: 0.7795 - val_loss: 0.4459 - val_acc: 0.7917\n",
      "Epoch 3/10\n",
      "293538/293538 [==============================] - 8s - loss: 0.4402 - acc: 0.7953 - val_loss: 0.4378 - val_acc: 0.7961\n",
      "Epoch 4/10\n",
      "293538/293538 [==============================] - 9s - loss: 0.4300 - acc: 0.8013 - val_loss: 0.4192 - val_acc: 0.8071\n",
      "Epoch 5/10\n",
      "293538/293538 [==============================] - 9s - loss: 0.4255 - acc: 0.8033 - val_loss: 0.4315 - val_acc: 0.8006\n",
      "Epoch 6/10\n",
      "293538/293538 [==============================] - 8s - loss: 0.4215 - acc: 0.8052 - val_loss: 0.4347 - val_acc: 0.7949\n",
      "Epoch 7/10\n",
      "293538/293538 [==============================] - 9s - loss: 0.4195 - acc: 0.8060 - val_loss: 0.4240 - val_acc: 0.8025\n",
      "Epoch 8/10\n",
      "293538/293538 [==============================] - 9s - loss: 0.4176 - acc: 0.8072 - val_loss: 0.4133 - val_acc: 0.8090\n",
      "Epoch 9/10\n",
      "293538/293538 [==============================] - 9s - loss: 0.4166 - acc: 0.8076 - val_loss: 0.4133 - val_acc: 0.8090\n",
      "Epoch 10/10\n",
      "293538/293538 [==============================] - 8s - loss: 0.4150 - acc: 0.8082 - val_loss: 0.4224 - val_acc: 0.8067\n",
      " INFO :: DL : Plot the train/test predictions\n",
      " INFO :: FOUNDATION : -- post-training :: ROC\n",
      " INFO :: FOUNDATION : -- post-training :: History\n"
     ]
    },
    {
     "name": "stderr",
     "output_type": "stream",
     "text": [
      "2018-09-19 12:54:24.030958: W tensorflow/core/platform/cpu_feature_guard.cc:45] The TensorFlow library wasn't compiled to use SSE4.2 instructions, but these are available on your machine and could speed up CPU computations.\n",
      "2018-09-19 12:54:24.030976: W tensorflow/core/platform/cpu_feature_guard.cc:45] The TensorFlow library wasn't compiled to use AVX instructions, but these are available on your machine and could speed up CPU computations.\n",
      "2018-09-19 12:54:24.030981: W tensorflow/core/platform/cpu_feature_guard.cc:45] The TensorFlow library wasn't compiled to use AVX2 instructions, but these are available on your machine and could speed up CPU computations.\n",
      "2018-09-19 12:54:24.030986: W tensorflow/core/platform/cpu_feature_guard.cc:45] The TensorFlow library wasn't compiled to use FMA instructions, but these are available on your machine and could speed up CPU computations.\n"
     ]
    }
   ],
   "source": [
    "dnn.initialize()\n",
    "dnn.load_data(['target'])  # load HEP data (add 'target' branch to dataframe)\n",
    "dnn.preprocess_data()      # equal statistics for each class\n",
    "dnn.train(ndims=1)         # build and train the model!"
   ]
  },
  {
   "cell_type": "markdown",
   "metadata": {
    "collapsed": true
   },
   "source": [
    "## Plots\n",
    "\n",
    "Now the training is done!  \n",
    "You can inspect the output plots to understand the performance of the neural network, then modify the configuration file and re-train, if necessary.\n",
    "The model is saved in the output directory (by default to be used in the Lightweight NN framework)."
   ]
  },
  {
   "cell_type": "code",
   "execution_count": 8,
   "metadata": {
    "collapsed": true
   },
   "outputs": [],
   "source": [
    "from IPython.display import IFrame"
   ]
  },
  {
   "cell_type": "code",
   "execution_count": 9,
   "metadata": {},
   "outputs": [
    {
     "data": {
      "text/html": [
       "\n",
       "        <iframe\n",
       "            width=\"600\"\n",
       "            height=\"300\"\n",
       "            src=\"./example/training-19Sep2018-1253/acc_epochs.pdf\"\n",
       "            frameborder=\"0\"\n",
       "            allowfullscreen\n",
       "        ></iframe>\n",
       "        "
      ],
      "text/plain": [
       "<IPython.lib.display.IFrame at 0x10476d490>"
      ]
     },
     "execution_count": 9,
     "metadata": {},
     "output_type": "execute_result"
    }
   ],
   "source": [
    "IFrame(\"{0}acc_epochs.pdf\".format(output), width=600, height=300) # doesn't handle '//' in filename"
   ]
  },
  {
   "cell_type": "code",
   "execution_count": 10,
   "metadata": {},
   "outputs": [
    {
     "data": {
      "text/html": [
       "\n",
       "        <iframe\n",
       "            width=\"600\"\n",
       "            height=\"300\"\n",
       "            src=\"./example/training-19Sep2018-1253/loss_epochs.pdf\"\n",
       "            frameborder=\"0\"\n",
       "            allowfullscreen\n",
       "        ></iframe>\n",
       "        "
      ],
      "text/plain": [
       "<IPython.lib.display.IFrame at 0x1c3b53b790>"
      ]
     },
     "execution_count": 10,
     "metadata": {},
     "output_type": "execute_result"
    }
   ],
   "source": [
    "IFrame(\"{0}loss_epochs.pdf\".format(output), width=600, height=300)"
   ]
  },
  {
   "cell_type": "code",
   "execution_count": 11,
   "metadata": {},
   "outputs": [
    {
     "data": {
      "text/html": [
       "\n",
       "        <iframe\n",
       "            width=\"600\"\n",
       "            height=\"300\"\n",
       "            src=\"./example/training-19Sep2018-1253/roc_curve.pdf\"\n",
       "            frameborder=\"0\"\n",
       "            allowfullscreen\n",
       "        ></iframe>\n",
       "        "
      ],
      "text/plain": [
       "<IPython.lib.display.IFrame at 0x1c37aa0750>"
      ]
     },
     "execution_count": 11,
     "metadata": {},
     "output_type": "execute_result"
    }
   ],
   "source": [
    "IFrame(\"{0}roc_curve.pdf\".format(output), width=600, height=300)"
   ]
  },
  {
   "cell_type": "code",
   "execution_count": 12,
   "metadata": {},
   "outputs": [
    {
     "data": {
      "text/html": [
       "\n",
       "        <iframe\n",
       "            width=\"600\"\n",
       "            height=\"300\"\n",
       "            src=\"./example/training-19Sep2018-1253/hist_DNN_prediction_signal.pdf\"\n",
       "            frameborder=\"0\"\n",
       "            allowfullscreen\n",
       "        ></iframe>\n",
       "        "
      ],
      "text/plain": [
       "<IPython.lib.display.IFrame at 0x1c3dd46090>"
      ]
     },
     "execution_count": 12,
     "metadata": {},
     "output_type": "execute_result"
    }
   ],
   "source": [
    "IFrame(\"{0}hist_DNN_prediction_signal.pdf\".format(output), width=600, height=300)"
   ]
  },
  {
   "cell_type": "markdown",
   "metadata": {
    "collapsed": true
   },
   "source": [
    "Note: In the current setup of Asimov, the tool is built for multi-classification.\n",
    "Thus, if you are doing binary classification, you will end up with 2 outputs, rather than 1 (the second output is just 1-X).  The ROC curve is configured to only draw one curve, but there will be extra (& separate) plots for the signal prediction and background prediction.  You can choose to ignore these."
   ]
  },
  {
   "cell_type": "code",
   "execution_count": null,
   "metadata": {
    "collapsed": true
   },
   "outputs": [],
   "source": []
  }
 ],
 "metadata": {
  "kernelspec": {
   "display_name": "Python 2",
   "language": "python",
   "name": "python2"
  },
  "language_info": {
   "codemirror_mode": {
    "name": "ipython",
    "version": 2
   },
   "file_extension": ".py",
   "mimetype": "text/x-python",
   "name": "python",
   "nbconvert_exporter": "python",
   "pygments_lexer": "ipython2",
   "version": "2.7.11"
  }
 },
 "nbformat": 4,
 "nbformat_minor": 2
}
