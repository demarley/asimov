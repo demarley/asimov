{
 "cells": [
  {
   "cell_type": "markdown",
   "metadata": {},
   "source": [
    "# Asimov: Simple Example"
   ]
  },
  {
   "cell_type": "markdown",
   "metadata": {},
   "source": [
    "This notebook details a simple setup for using the Asimov framework in your own analysis.\n",
    "A dataset from the Higgs Boson Machine Learning Challenge is used for the demo*.\n",
    "\n",
    "\n",
    "*Data accessed from Higgs Boson Machine Learning Challenge\n",
    "http://opendata.cern.ch/record/328\n",
    "on 18 September 2018 (converted from .csv to .root for this example)"
   ]
  },
  {
   "cell_type": "code",
   "execution_count": 1,
   "metadata": {},
   "outputs": [],
   "source": [
    "import os\n",
    "import sys\n",
    "from time import strftime,localtime"
   ]
  },
  {
   "cell_type": "markdown",
   "metadata": {},
   "source": [
    "### Import Necessary Modules\n",
    "Update python paths to include the directories for Asimov and hepPlotter -- subject to how you have checked out these repositories"
   ]
  },
  {
   "cell_type": "code",
   "execution_count": 2,
   "metadata": {},
   "outputs": [],
   "source": [
    "cwd = os.getcwd()\n",
    "hpd = cwd.rstrip(\"examples\")+\"python/\"\n",
    "if hpd not in sys.path:\n",
    "    sys.path.insert(0,hpd)\n",
    "hpd2 = cwd.replace(\"asimov/examples\",\"hepPlotter/python/\")\n",
    "if hpd2 not in sys.path:\n",
    "    sys.path.insert(0,hpd2)"
   ]
  },
  {
   "cell_type": "code",
   "execution_count": 3,
   "metadata": {},
   "outputs": [
    {
     "name": "stderr",
     "output_type": "stream",
     "text": [
      "/Users/demarley/anaconda2/lib/python2.7/site-packages/matplotlib/style/core.py:51: UserWarning: Style includes a parameter, 'backend', that is not related to style.  Ignoring\n",
      "  \"to style.  Ignoring\".format(key))\n",
      "Using TensorFlow backend.\n"
     ]
    }
   ],
   "source": [
    "import util\n",
    "from training import Training\n",
    "from config import Config\n",
    "import example_plotlabels as plb"
   ]
  },
  {
   "cell_type": "markdown",
   "metadata": {},
   "source": [
    "The python file `example_plotlabels.py` contains an example for how you can organize information concerning sample and variable labels on your plots.  \n",
    "The objects in this file (`Sample` & `Variable`) are assumed to be available in the Asimov framework."
   ]
  },
  {
   "cell_type": "markdown",
   "metadata": {},
   "source": [
    "### Setup Configuration"
   ]
  },
  {
   "cell_type": "code",
   "execution_count": 4,
   "metadata": {},
   "outputs": [
    {
     "name": "stdout",
     "output_type": "stream",
     "text": [
      "WARNING :: CONFIG : The configuration file does not contain model_name\n",
      "WARNING :: CONFIG : Using default value.\n",
      "WARNING :: CONFIG : The configuration file does not contain dnn_data\n",
      "WARNING :: CONFIG : Using default value.\n",
      " INFO :: RUN :  Saving output to ./example/training-23Oct2018-2325/\n"
     ]
    }
   ],
   "source": [
    "config   = Config(\"example_config.txt\")  # Set options for asimov\n",
    "vb       = util.VERBOSE()                # Tool that handles print statements to the console\n",
    "vb.level = config.verbose_level\n",
    "vb.initialize()\n",
    "\n",
    "# Create a new (unique) directory to store the outputs\n",
    "# I use the current date/time, but this is just a personal preference\n",
    "date = strftime(\"%d%b%Y-%H%M\")\n",
    "hep_data_name = config.hep_data.split('/')[-1].split('.')[0]\n",
    "output = \"{0}/{1}\".format( config.output_path,hep_data_name)\n",
    "output += \"/training-{0}/\".format(date)\n",
    "\n",
    "vb.INFO(\"RUN :  Saving output to {0}\".format(output))\n",
    "if not os.path.isdir(output):\n",
    "    os.system( 'mkdir -p {0}'.format(output) )"
   ]
  },
  {
   "cell_type": "markdown",
   "metadata": {},
   "source": [
    "### Initialize & Setup Deep Learning class"
   ]
  },
  {
   "cell_type": "code",
   "execution_count": 5,
   "metadata": {},
   "outputs": [],
   "source": [
    "dnn = Training() # class to do the training"
   ]
  },
  {
   "cell_type": "code",
   "execution_count": 6,
   "metadata": {},
   "outputs": [],
   "source": [
    "dnn.variable_labels = plb.variable_labels()  # labels for variables\n",
    "dnn.sample_labels   = plb.sample_labels()    # labels for samples\n",
    "\n",
    "dnn.backend    = 'uproot'         # Set the backend for hepPlotter\n",
    "dnn.hep_data   = config.hep_data\n",
    "dnn.model_name = config.dnn_data\n",
    "dnn.msg_svc    = vb\n",
    "dnn.treename   = config.treename  # tree in Root file to access\n",
    "dnn.useLWTNN   = True             # save model and architecture for LWTNN\n",
    "dnn.dnn_name   = \"dnn\"\n",
    "dnn.output_dim = config.output_dim\n",
    "dnn.loss       = config.loss\n",
    "dnn.init       = config.init\n",
    "dnn.nNodes     = config.nNodes\n",
    "dnn.metrics    = config.metrics\n",
    "dnn.features   = config.features\n",
    "dnn.epochs     = config.epochs\n",
    "dnn.optimizer  = config.optimizer\n",
    "dnn.input_dim  = len(config.features)\n",
    "dnn.batch_size = config.batch_size\n",
    "dnn.activations    = config.activation.split(',')\n",
    "dnn.nHiddenLayers  = config.nHiddenLayers\n",
    "dnn.earlystopping  = {'monitor':'loss','min_delta':0.0001,'patience':10,'mode':'auto'}\n",
    "dnn.runDiagnostics = True            # make the performance plots\n",
    "dnn.classes = {\"bckg\":0,\"signal\":1}  # dictionary of names with target values in ntuple\n",
    "dnn.output_dir = output"
   ]
  },
  {
   "cell_type": "markdown",
   "metadata": {},
   "source": [
    "NB: in the function call `dnn.train(ndims=X)`, `ndims` represents the number of dimensions to consider for plotting features for signal/background.  \n",
    "- `ndims = -1`:    Plot 1D & 2D features for signal and background (can be slow)\n",
    "- `ndims = 1`:     Plot 1D features only\n",
    "\n",
    "### Run the training!"
   ]
  },
  {
   "cell_type": "code",
   "execution_count": 7,
   "metadata": {},
   "outputs": [
    {
     "name": "stdout",
     "output_type": "stream",
     "text": [
      " INFO :: FOUNDATION : Load HEP data\n",
      " INFO :: FOUNDATION : -- pre-training :: features\n"
     ]
    },
    {
     "name": "stderr",
     "output_type": "stream",
     "text": [
      "/Users/demarley/anaconda2/lib/python2.7/site-packages/matplotlib/font_manager.py:1331: UserWarning: findfont: Font family [u'sans-serif'] not found. Falling back to DejaVu Sans\n",
      "  (prop.get_family(), self.defaultFamily[fontext]))\n",
      "/Users/demarley/Desktop/Home/hepex/hepPlotter/python/histogram1D.py:236: RuntimeWarning: divide by zero encountered in divide\n",
      "  ratio_data.data.content = (num_data / np.sqrt(den_data)).copy()\n",
      "/Users/demarley/Desktop/Home/hepex/hepPlotter/python/histogram1D.py:236: RuntimeWarning: invalid value encountered in divide\n",
      "  ratio_data.data.content = (num_data / np.sqrt(den_data)).copy()\n",
      "/Users/demarley/Desktop/Home/hepex/asimov/python/util.py:112: RuntimeWarning: invalid value encountered in divide\n",
      "  tmp = np.divide( (sig-bkg)**2 , (sig+bkg), dtype=np.float32)\n",
      "/Users/demarley/Desktop/Home/hepex/asimov/python/util.py:112: RuntimeWarning: divide by zero encountered in divide\n",
      "  tmp = np.divide( (sig-bkg)**2 , (sig+bkg), dtype=np.float32)\n"
     ]
    },
    {
     "name": "stdout",
     "output_type": "stream",
     "text": [
      " INFO :: FOUNDATION : -- pre-training :: correlations\n",
      " INFO :: FOUNDATION : -- pre-training :: separations\n",
      "Train on 293538 samples, validate on 97846 samples\n",
      "Epoch 1/10\n",
      "293538/293538 [==============================] - 30s 101us/step - loss: 0.5009 - acc: 0.7547 - val_loss: 0.4798 - val_acc: 0.7717\n",
      "Epoch 2/10\n",
      "293538/293538 [==============================] - 26s 89us/step - loss: 0.4588 - acc: 0.7850 - val_loss: 0.4451 - val_acc: 0.7923\n",
      "Epoch 3/10\n",
      "293538/293538 [==============================] - 26s 89us/step - loss: 0.4381 - acc: 0.7971 - val_loss: 0.4308 - val_acc: 0.8026\n",
      "Epoch 4/10\n",
      "293538/293538 [==============================] - 26s 89us/step - loss: 0.4306 - acc: 0.8014 - val_loss: 0.4204 - val_acc: 0.8071\n",
      "Epoch 5/10\n",
      "293538/293538 [==============================] - 26s 89us/step - loss: 0.4267 - acc: 0.8025 - val_loss: 0.4363 - val_acc: 0.7960\n",
      "Epoch 6/10\n",
      "293538/293538 [==============================] - 26s 89us/step - loss: 0.4230 - acc: 0.8042 - val_loss: 0.4269 - val_acc: 0.8032\n",
      "Epoch 7/10\n",
      "293538/293538 [==============================] - 27s 92us/step - loss: 0.4213 - acc: 0.8053 - val_loss: 0.4222 - val_acc: 0.8030\n",
      "Epoch 8/10\n",
      "293538/293538 [==============================] - 26s 90us/step - loss: 0.4193 - acc: 0.8058 - val_loss: 0.4194 - val_acc: 0.8071\n",
      "Epoch 9/10\n",
      "293538/293538 [==============================] - 25s 86us/step - loss: 0.4181 - acc: 0.8070 - val_loss: 0.4223 - val_acc: 0.8056\n",
      "Epoch 10/10\n",
      "293538/293538 [==============================] - 26s 87us/step - loss: 0.4160 - acc: 0.8078 - val_loss: 0.4160 - val_acc: 0.8092\n",
      " INFO :: TRAINING : Plot the train/test predictions\n",
      " INFO :: FOUNDATION : -- post-training :: ROC\n",
      " INFO :: FOUNDATION : -- post-training :: History\n"
     ]
    }
   ],
   "source": [
    "dnn.initialize()\n",
    "dnn.load_data(['target'])  # load HEP data (add 'target' branch to dataframe)\n",
    "dnn.preprocess_data()      # equal statistics for each class\n",
    "dnn.train(ndims=1)         # build and train the model!"
   ]
  },
  {
   "cell_type": "markdown",
   "metadata": {
    "collapsed": true
   },
   "source": [
    "## Plots\n",
    "\n",
    "Now the training is done!  \n",
    "You can inspect the output plots to understand the performance of the neural network, then modify the configuration file and re-train, if necessary.\n",
    "The model is saved in the output directory (by default to be used in the Lightweight NN framework)."
   ]
  },
  {
   "cell_type": "code",
   "execution_count": 8,
   "metadata": {},
   "outputs": [],
   "source": [
    "from IPython.display import IFrame"
   ]
  },
  {
   "cell_type": "code",
   "execution_count": 9,
   "metadata": {},
   "outputs": [
    {
     "data": {
      "text/html": [
       "\n",
       "        <iframe\n",
       "            width=\"600\"\n",
       "            height=\"300\"\n",
       "            src=\"./example/training-23Oct2018-2325/acc_epochs.pdf\"\n",
       "            frameborder=\"0\"\n",
       "            allowfullscreen\n",
       "        ></iframe>\n",
       "        "
      ],
      "text/plain": [
       "<IPython.lib.display.IFrame at 0x1a3bb66dd0>"
      ]
     },
     "execution_count": 9,
     "metadata": {},
     "output_type": "execute_result"
    }
   ],
   "source": [
    "IFrame(\"{0}acc_epochs.pdf\".format(output), width=600, height=300) # doesn't handle '//' in filename"
   ]
  },
  {
   "cell_type": "code",
   "execution_count": 10,
   "metadata": {},
   "outputs": [
    {
     "data": {
      "text/html": [
       "\n",
       "        <iframe\n",
       "            width=\"600\"\n",
       "            height=\"300\"\n",
       "            src=\"./example/training-23Oct2018-2325/loss_epochs.pdf\"\n",
       "            frameborder=\"0\"\n",
       "            allowfullscreen\n",
       "        ></iframe>\n",
       "        "
      ],
      "text/plain": [
       "<IPython.lib.display.IFrame at 0x1096eeb90>"
      ]
     },
     "execution_count": 10,
     "metadata": {},
     "output_type": "execute_result"
    }
   ],
   "source": [
    "IFrame(\"{0}loss_epochs.pdf\".format(output), width=600, height=300)"
   ]
  },
  {
   "cell_type": "code",
   "execution_count": 11,
   "metadata": {},
   "outputs": [
    {
     "data": {
      "text/html": [
       "\n",
       "        <iframe\n",
       "            width=\"600\"\n",
       "            height=\"300\"\n",
       "            src=\"./example/training-23Oct2018-2325/roc_curve.pdf\"\n",
       "            frameborder=\"0\"\n",
       "            allowfullscreen\n",
       "        ></iframe>\n",
       "        "
      ],
      "text/plain": [
       "<IPython.lib.display.IFrame at 0x1a3bb2cfd0>"
      ]
     },
     "execution_count": 11,
     "metadata": {},
     "output_type": "execute_result"
    }
   ],
   "source": [
    "IFrame(\"{0}roc_curve.pdf\".format(output), width=600, height=300)"
   ]
  },
  {
   "cell_type": "code",
   "execution_count": 12,
   "metadata": {},
   "outputs": [
    {
     "data": {
      "text/html": [
       "\n",
       "        <iframe\n",
       "            width=\"600\"\n",
       "            height=\"300\"\n",
       "            src=\"./example/training-23Oct2018-2325/hist_DNN_prediction.pdf\"\n",
       "            frameborder=\"0\"\n",
       "            allowfullscreen\n",
       "        ></iframe>\n",
       "        "
      ],
      "text/plain": [
       "<IPython.lib.display.IFrame at 0x1a30f69090>"
      ]
     },
     "execution_count": 12,
     "metadata": {},
     "output_type": "execute_result"
    }
   ],
   "source": [
    "IFrame(\"{0}hist_DNN_prediction.pdf\".format(output), width=600, height=300)"
   ]
  },
  {
   "cell_type": "code",
   "execution_count": null,
   "metadata": {},
   "outputs": [],
   "source": []
  }
 ],
 "metadata": {
  "kernelspec": {
   "display_name": "Python 2",
   "language": "python",
   "name": "python2"
  },
  "language_info": {
   "codemirror_mode": {
    "name": "ipython",
    "version": 2
   },
   "file_extension": ".py",
   "mimetype": "text/x-python",
   "name": "python",
   "nbconvert_exporter": "python",
   "pygments_lexer": "ipython2",
   "version": "2.7.15"
  }
 },
 "nbformat": 4,
 "nbformat_minor": 2
}
